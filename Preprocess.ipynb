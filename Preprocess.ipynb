{
 "cells": [
  {
   "cell_type": "code",
   "execution_count": 1,
   "id": "ec0dfd5c",
   "metadata": {
    "executionInfo": {
     "elapsed": 6,
     "status": "ok",
     "timestamp": 1691688722509,
     "user": {
      "displayName": "강민수",
      "userId": "02270149204876897928"
     },
     "user_tz": -540
    },
    "id": "ec0dfd5c"
   },
   "outputs": [],
   "source": [
    "#Library Imports\n",
    "import random\n",
    "import pandas as pd\n",
    "import numpy as np\n",
    "import os\n",
    "\n",
    "from tqdm import tqdm\n",
    "\n",
    "import matplotlib.pyplot as plt\n",
    "\n",
    "import warnings\n",
    "warnings.filterwarnings(action='ignore')\n",
    "\n",
    "# pd.options.display.max_rows = 200"
   ]
  },
  {
   "cell_type": "code",
   "execution_count": 2,
   "id": "81ab5c4a",
   "metadata": {
    "executionInfo": {
     "elapsed": 2792,
     "status": "ok",
     "timestamp": 1691688725296,
     "user": {
      "displayName": "강민수",
      "userId": "02270149204876897928"
     },
     "user_tz": -540
    },
    "id": "81ab5c4a"
   },
   "outputs": [],
   "source": [
    "train = pd.read_csv('./data/train.csv')\n",
    "submission =pd.read_csv('./data/sample_submission.csv')"
   ]
  },
  {
   "cell_type": "markdown",
   "id": "bc1038ce",
   "metadata": {
    "id": "bc1038ce"
   },
   "source": [
    "## Fixed Random-Seed"
   ]
  },
  {
   "cell_type": "code",
   "execution_count": 3,
   "id": "49b3c6e5",
   "metadata": {
    "executionInfo": {
     "elapsed": 11,
     "status": "ok",
     "timestamp": 1691688725297,
     "user": {
      "displayName": "강민수",
      "userId": "02270149204876897928"
     },
     "user_tz": -540
    },
    "id": "49b3c6e5"
   },
   "outputs": [],
   "source": [
    "def seed_everything(seed):\n",
    "    random.seed(seed)\n",
    "    os.environ['PYTHONHASHSEED'] = str(seed)\n",
    "    np.random.seed(seed)\n",
    "\n",
    "seed_everything(42) # Seed 고정"
   ]
  },
  {
   "cell_type": "markdown",
   "id": "7fd8be6f",
   "metadata": {
    "id": "7fd8be6f"
   },
   "source": [
    "## 전처리"
   ]
  },
  {
   "cell_type": "code",
   "execution_count": 4,
   "id": "6fd491ea",
   "metadata": {},
   "outputs": [],
   "source": [
    "train_list = []\n",
    "test_list = []"
   ]
  },
  {
   "cell_type": "code",
   "execution_count": 5,
   "id": "0d13a1f8",
   "metadata": {},
   "outputs": [
    {
     "name": "stderr",
     "output_type": "stream",
     "text": [
      "100% 15890/15890 [02:55<00:00, 90.57it/s]\n"
     ]
    }
   ],
   "source": [
    "for i in tqdm(range(len(train))):\n",
    "    train_list.append(train.iloc[[i], 6:].T.reset_index().rename(columns={'index': 'date_time', i: 'sales'}))\n",
    "    train_list[i]['date_time'] = pd.to_datetime(train_list[i]['date_time'])\n",
    "    train_list[i]['year'] = train_list[i]['date_time'].dt.year\n",
    "    train_list[i]['month'] = train_list[i]['date_time'].dt.month\n",
    "    train_list[i]['week'] = train_list[i]['date_time'].dt.weekofyear\n",
    "    train_list[i]['day'] = train_list[i]['date_time'].dt.weekday\n",
    "    train_list[i]['holiday'] = train_list[i].apply(lambda x : 0 if x['day']<5 else 1, axis = 1)\n",
    "\n",
    "\n",
    "    test_list.append(submission.iloc[[i],1:].T.reset_index().rename(columns={'index': 'date_time', i: 'sales'}))\n",
    "    test_list[i]['date_time'] = pd.to_datetime(test_list[i]['date_time'])\n",
    "    test_list[i]['year'] = test_list[i]['date_time'].dt.year\n",
    "    test_list[i]['month'] = test_list[i]['date_time'].dt.month\n",
    "    test_list[i]['week'] = test_list[i]['date_time'].dt.weekofyear\n",
    "    test_list[i]['day'] = test_list[i]['date_time'].dt.weekday\n",
    "    test_list[i]['holiday'] = test_list[i].apply(lambda x : 0 if x['day']<5 else 1, axis = 1)"
   ]
  },
  {
   "cell_type": "code",
   "execution_count": 6,
   "id": "8d887d1a",
   "metadata": {},
   "outputs": [],
   "source": [
    "y_train_list = []\n",
    "y_test_list = []"
   ]
  },
  {
   "cell_type": "code",
   "execution_count": 7,
   "id": "5f71b1d6",
   "metadata": {},
   "outputs": [
    {
     "name": "stderr",
     "output_type": "stream",
     "text": [
      "100% 15890/15890 [00:21<00:00, 753.59it/s]\n"
     ]
    }
   ],
   "source": [
    "for i in tqdm(range(len(train))):\n",
    "    y_train_list.append(train_list[i]['sales'])\n",
    "    y_test_list.append(test_list[i]['sales'])\n",
    "\n",
    "    train_list[i] = train_list[i].drop(columns='sales')\n",
    "    test_list[i] = test_list[i].drop(columns='sales')\n",
    "\n",
    "    train_list[i] = train_list[i].drop(columns='date_time')\n",
    "    test_list[i] = test_list[i].drop(columns='date_time')"
   ]
  },
  {
   "cell_type": "code",
   "execution_count": 8,
   "id": "bc334e47",
   "metadata": {},
   "outputs": [],
   "source": [
    "import lightgbm as lgb\n",
    "from sklearn.model_selection import KFold \n",
    "from sklearn.model_selection import cross_val_score "
   ]
  },
  {
   "cell_type": "code",
   "execution_count": 9,
   "id": "2b41e7ce",
   "metadata": {},
   "outputs": [],
   "source": [
    "model = lgb.LGBMRegressor(objective='mean_absolute_error', metric ='mean_absolute_error', random_state=42)"
   ]
  },
  {
   "cell_type": "code",
   "execution_count": 10,
   "id": "7d92301b",
   "metadata": {},
   "outputs": [],
   "source": [
    "pred_list = []"
   ]
  },
  {
   "cell_type": "code",
   "execution_count": 11,
   "id": "6b12f931",
   "metadata": {
    "scrolled": true
   },
   "outputs": [
    {
     "name": "stderr",
     "output_type": "stream",
     "text": [
      "100% 15890/15890 [3:11:40<00:00,  1.38it/s]  \n"
     ]
    }
   ],
   "source": [
    "for i in tqdm(range(len(train_list))):\n",
    "    kfold = KFold(n_splits=17, shuffle = False)\n",
    "    scores = cross_val_score(model, train_list[i], y_train_list[i], cv=kfold, scoring='neg_mean_absolute_error')    \n",
    "    model.fit(train_list[i], y_train_list[i])\n",
    "    predictions = model.predict(test_list[i])\n",
    "    predictions[predictions < 0] = 0\n",
    "    predictions = np.round(predictions)\n",
    "    pred_list.append(predictions)"
   ]
  },
  {
   "cell_type": "code",
   "execution_count": 12,
   "id": "1086ed4a",
   "metadata": {},
   "outputs": [],
   "source": [
    "submit =pd.read_csv('./data/sample_submission.csv')"
   ]
  },
  {
   "cell_type": "code",
   "execution_count": 13,
   "id": "6615b743",
   "metadata": {},
   "outputs": [
    {
     "name": "stderr",
     "output_type": "stream",
     "text": [
      "100% 15890/15890 [00:01<00:00, 13576.51it/s]\n"
     ]
    }
   ],
   "source": [
    "for i in tqdm(range(len(train_list))):\n",
    "    submit.iloc[i,1:] = pred_list[i]"
   ]
  },
  {
   "cell_type": "code",
   "execution_count": 17,
   "id": "9c86eb13",
   "metadata": {},
   "outputs": [],
   "source": [
    "#submit.to_csv('submission_version_04.csv', index=False)"
   ]
  },
  {
   "cell_type": "code",
   "execution_count": 18,
   "id": "95b75601",
   "metadata": {},
   "outputs": [
    {
     "data": {
      "text/html": [
       "<div>\n",
       "<style scoped>\n",
       "    .dataframe tbody tr th:only-of-type {\n",
       "        vertical-align: middle;\n",
       "    }\n",
       "\n",
       "    .dataframe tbody tr th {\n",
       "        vertical-align: top;\n",
       "    }\n",
       "\n",
       "    .dataframe thead th {\n",
       "        text-align: right;\n",
       "    }\n",
       "</style>\n",
       "<table border=\"1\" class=\"dataframe\">\n",
       "  <thead>\n",
       "    <tr style=\"text-align: right;\">\n",
       "      <th></th>\n",
       "      <th>ID</th>\n",
       "      <th>2023-04-05</th>\n",
       "      <th>2023-04-06</th>\n",
       "      <th>2023-04-07</th>\n",
       "      <th>2023-04-08</th>\n",
       "      <th>2023-04-09</th>\n",
       "      <th>2023-04-10</th>\n",
       "      <th>2023-04-11</th>\n",
       "      <th>2023-04-12</th>\n",
       "      <th>2023-04-13</th>\n",
       "      <th>...</th>\n",
       "      <th>2023-04-16</th>\n",
       "      <th>2023-04-17</th>\n",
       "      <th>2023-04-18</th>\n",
       "      <th>2023-04-19</th>\n",
       "      <th>2023-04-20</th>\n",
       "      <th>2023-04-21</th>\n",
       "      <th>2023-04-22</th>\n",
       "      <th>2023-04-23</th>\n",
       "      <th>2023-04-24</th>\n",
       "      <th>2023-04-25</th>\n",
       "    </tr>\n",
       "  </thead>\n",
       "  <tbody>\n",
       "    <tr>\n",
       "      <th>0</th>\n",
       "      <td>0</td>\n",
       "      <td>0</td>\n",
       "      <td>0</td>\n",
       "      <td>0</td>\n",
       "      <td>0</td>\n",
       "      <td>0</td>\n",
       "      <td>0</td>\n",
       "      <td>0</td>\n",
       "      <td>0</td>\n",
       "      <td>0</td>\n",
       "      <td>...</td>\n",
       "      <td>0</td>\n",
       "      <td>0</td>\n",
       "      <td>0</td>\n",
       "      <td>0</td>\n",
       "      <td>0</td>\n",
       "      <td>0</td>\n",
       "      <td>0</td>\n",
       "      <td>0</td>\n",
       "      <td>0</td>\n",
       "      <td>0</td>\n",
       "    </tr>\n",
       "    <tr>\n",
       "      <th>1</th>\n",
       "      <td>1</td>\n",
       "      <td>4</td>\n",
       "      <td>5</td>\n",
       "      <td>5</td>\n",
       "      <td>5</td>\n",
       "      <td>5</td>\n",
       "      <td>4</td>\n",
       "      <td>4</td>\n",
       "      <td>4</td>\n",
       "      <td>5</td>\n",
       "      <td>...</td>\n",
       "      <td>5</td>\n",
       "      <td>4</td>\n",
       "      <td>4</td>\n",
       "      <td>4</td>\n",
       "      <td>5</td>\n",
       "      <td>5</td>\n",
       "      <td>5</td>\n",
       "      <td>5</td>\n",
       "      <td>4</td>\n",
       "      <td>4</td>\n",
       "    </tr>\n",
       "    <tr>\n",
       "      <th>2</th>\n",
       "      <td>2</td>\n",
       "      <td>2</td>\n",
       "      <td>1</td>\n",
       "      <td>1</td>\n",
       "      <td>1</td>\n",
       "      <td>1</td>\n",
       "      <td>3</td>\n",
       "      <td>3</td>\n",
       "      <td>3</td>\n",
       "      <td>3</td>\n",
       "      <td>...</td>\n",
       "      <td>2</td>\n",
       "      <td>2</td>\n",
       "      <td>2</td>\n",
       "      <td>3</td>\n",
       "      <td>3</td>\n",
       "      <td>2</td>\n",
       "      <td>2</td>\n",
       "      <td>2</td>\n",
       "      <td>2</td>\n",
       "      <td>2</td>\n",
       "    </tr>\n",
       "    <tr>\n",
       "      <th>3</th>\n",
       "      <td>3</td>\n",
       "      <td>0</td>\n",
       "      <td>0</td>\n",
       "      <td>0</td>\n",
       "      <td>0</td>\n",
       "      <td>0</td>\n",
       "      <td>0</td>\n",
       "      <td>0</td>\n",
       "      <td>0</td>\n",
       "      <td>0</td>\n",
       "      <td>...</td>\n",
       "      <td>0</td>\n",
       "      <td>0</td>\n",
       "      <td>0</td>\n",
       "      <td>0</td>\n",
       "      <td>0</td>\n",
       "      <td>0</td>\n",
       "      <td>0</td>\n",
       "      <td>0</td>\n",
       "      <td>0</td>\n",
       "      <td>0</td>\n",
       "    </tr>\n",
       "    <tr>\n",
       "      <th>4</th>\n",
       "      <td>4</td>\n",
       "      <td>0</td>\n",
       "      <td>0</td>\n",
       "      <td>0</td>\n",
       "      <td>0</td>\n",
       "      <td>0</td>\n",
       "      <td>1</td>\n",
       "      <td>1</td>\n",
       "      <td>1</td>\n",
       "      <td>1</td>\n",
       "      <td>...</td>\n",
       "      <td>1</td>\n",
       "      <td>1</td>\n",
       "      <td>1</td>\n",
       "      <td>1</td>\n",
       "      <td>1</td>\n",
       "      <td>1</td>\n",
       "      <td>1</td>\n",
       "      <td>1</td>\n",
       "      <td>1</td>\n",
       "      <td>1</td>\n",
       "    </tr>\n",
       "    <tr>\n",
       "      <th>...</th>\n",
       "      <td>...</td>\n",
       "      <td>...</td>\n",
       "      <td>...</td>\n",
       "      <td>...</td>\n",
       "      <td>...</td>\n",
       "      <td>...</td>\n",
       "      <td>...</td>\n",
       "      <td>...</td>\n",
       "      <td>...</td>\n",
       "      <td>...</td>\n",
       "      <td>...</td>\n",
       "      <td>...</td>\n",
       "      <td>...</td>\n",
       "      <td>...</td>\n",
       "      <td>...</td>\n",
       "      <td>...</td>\n",
       "      <td>...</td>\n",
       "      <td>...</td>\n",
       "      <td>...</td>\n",
       "      <td>...</td>\n",
       "      <td>...</td>\n",
       "    </tr>\n",
       "    <tr>\n",
       "      <th>15885</th>\n",
       "      <td>15885</td>\n",
       "      <td>0</td>\n",
       "      <td>0</td>\n",
       "      <td>1</td>\n",
       "      <td>2</td>\n",
       "      <td>2</td>\n",
       "      <td>0</td>\n",
       "      <td>0</td>\n",
       "      <td>0</td>\n",
       "      <td>0</td>\n",
       "      <td>...</td>\n",
       "      <td>2</td>\n",
       "      <td>3</td>\n",
       "      <td>3</td>\n",
       "      <td>4</td>\n",
       "      <td>7</td>\n",
       "      <td>10</td>\n",
       "      <td>10</td>\n",
       "      <td>10</td>\n",
       "      <td>3</td>\n",
       "      <td>3</td>\n",
       "    </tr>\n",
       "    <tr>\n",
       "      <th>15886</th>\n",
       "      <td>15886</td>\n",
       "      <td>0</td>\n",
       "      <td>0</td>\n",
       "      <td>0</td>\n",
       "      <td>0</td>\n",
       "      <td>0</td>\n",
       "      <td>0</td>\n",
       "      <td>0</td>\n",
       "      <td>0</td>\n",
       "      <td>0</td>\n",
       "      <td>...</td>\n",
       "      <td>0</td>\n",
       "      <td>0</td>\n",
       "      <td>0</td>\n",
       "      <td>0</td>\n",
       "      <td>0</td>\n",
       "      <td>0</td>\n",
       "      <td>0</td>\n",
       "      <td>0</td>\n",
       "      <td>0</td>\n",
       "      <td>0</td>\n",
       "    </tr>\n",
       "    <tr>\n",
       "      <th>15887</th>\n",
       "      <td>15887</td>\n",
       "      <td>0</td>\n",
       "      <td>0</td>\n",
       "      <td>0</td>\n",
       "      <td>0</td>\n",
       "      <td>0</td>\n",
       "      <td>0</td>\n",
       "      <td>0</td>\n",
       "      <td>0</td>\n",
       "      <td>0</td>\n",
       "      <td>...</td>\n",
       "      <td>0</td>\n",
       "      <td>0</td>\n",
       "      <td>0</td>\n",
       "      <td>0</td>\n",
       "      <td>0</td>\n",
       "      <td>0</td>\n",
       "      <td>0</td>\n",
       "      <td>0</td>\n",
       "      <td>0</td>\n",
       "      <td>0</td>\n",
       "    </tr>\n",
       "    <tr>\n",
       "      <th>15888</th>\n",
       "      <td>15888</td>\n",
       "      <td>0</td>\n",
       "      <td>0</td>\n",
       "      <td>0</td>\n",
       "      <td>0</td>\n",
       "      <td>0</td>\n",
       "      <td>0</td>\n",
       "      <td>0</td>\n",
       "      <td>0</td>\n",
       "      <td>0</td>\n",
       "      <td>...</td>\n",
       "      <td>0</td>\n",
       "      <td>0</td>\n",
       "      <td>0</td>\n",
       "      <td>0</td>\n",
       "      <td>0</td>\n",
       "      <td>0</td>\n",
       "      <td>0</td>\n",
       "      <td>0</td>\n",
       "      <td>0</td>\n",
       "      <td>0</td>\n",
       "    </tr>\n",
       "    <tr>\n",
       "      <th>15889</th>\n",
       "      <td>15889</td>\n",
       "      <td>0</td>\n",
       "      <td>0</td>\n",
       "      <td>0</td>\n",
       "      <td>0</td>\n",
       "      <td>0</td>\n",
       "      <td>0</td>\n",
       "      <td>0</td>\n",
       "      <td>0</td>\n",
       "      <td>0</td>\n",
       "      <td>...</td>\n",
       "      <td>0</td>\n",
       "      <td>0</td>\n",
       "      <td>0</td>\n",
       "      <td>0</td>\n",
       "      <td>0</td>\n",
       "      <td>0</td>\n",
       "      <td>0</td>\n",
       "      <td>0</td>\n",
       "      <td>0</td>\n",
       "      <td>0</td>\n",
       "    </tr>\n",
       "  </tbody>\n",
       "</table>\n",
       "<p>15890 rows × 22 columns</p>\n",
       "</div>"
      ],
      "text/plain": [
       "          ID  2023-04-05  2023-04-06  2023-04-07  2023-04-08  2023-04-09  \\\n",
       "0          0           0           0           0           0           0   \n",
       "1          1           4           5           5           5           5   \n",
       "2          2           2           1           1           1           1   \n",
       "3          3           0           0           0           0           0   \n",
       "4          4           0           0           0           0           0   \n",
       "...      ...         ...         ...         ...         ...         ...   \n",
       "15885  15885           0           0           1           2           2   \n",
       "15886  15886           0           0           0           0           0   \n",
       "15887  15887           0           0           0           0           0   \n",
       "15888  15888           0           0           0           0           0   \n",
       "15889  15889           0           0           0           0           0   \n",
       "\n",
       "       2023-04-10  2023-04-11  2023-04-12  2023-04-13  ...  2023-04-16  \\\n",
       "0               0           0           0           0  ...           0   \n",
       "1               4           4           4           5  ...           5   \n",
       "2               3           3           3           3  ...           2   \n",
       "3               0           0           0           0  ...           0   \n",
       "4               1           1           1           1  ...           1   \n",
       "...           ...         ...         ...         ...  ...         ...   \n",
       "15885           0           0           0           0  ...           2   \n",
       "15886           0           0           0           0  ...           0   \n",
       "15887           0           0           0           0  ...           0   \n",
       "15888           0           0           0           0  ...           0   \n",
       "15889           0           0           0           0  ...           0   \n",
       "\n",
       "       2023-04-17  2023-04-18  2023-04-19  2023-04-20  2023-04-21  2023-04-22  \\\n",
       "0               0           0           0           0           0           0   \n",
       "1               4           4           4           5           5           5   \n",
       "2               2           2           3           3           2           2   \n",
       "3               0           0           0           0           0           0   \n",
       "4               1           1           1           1           1           1   \n",
       "...           ...         ...         ...         ...         ...         ...   \n",
       "15885           3           3           4           7          10          10   \n",
       "15886           0           0           0           0           0           0   \n",
       "15887           0           0           0           0           0           0   \n",
       "15888           0           0           0           0           0           0   \n",
       "15889           0           0           0           0           0           0   \n",
       "\n",
       "       2023-04-23  2023-04-24  2023-04-25  \n",
       "0               0           0           0  \n",
       "1               5           4           4  \n",
       "2               2           2           2  \n",
       "3               0           0           0  \n",
       "4               1           1           1  \n",
       "...           ...         ...         ...  \n",
       "15885          10           3           3  \n",
       "15886           0           0           0  \n",
       "15887           0           0           0  \n",
       "15888           0           0           0  \n",
       "15889           0           0           0  \n",
       "\n",
       "[15890 rows x 22 columns]"
      ]
     },
     "execution_count": 18,
     "metadata": {},
     "output_type": "execute_result"
    }
   ],
   "source": [
    "submit"
   ]
  }
 ],
 "metadata": {
  "accelerator": "GPU",
  "colab": {
   "gpuType": "A100",
   "provenance": []
  },
  "kernelspec": {
   "display_name": "Pytorch2.0, Tensorflow2.11 (kaggle 23.05/Python 3.10 Conda, CUDA 11.3) on Backend.AI",
   "language": "python",
   "name": "python3"
  },
  "language_info": {
   "codemirror_mode": {
    "name": "ipython",
    "version": 3
   },
   "file_extension": ".py",
   "mimetype": "text/x-python",
   "name": "python",
   "nbconvert_exporter": "python",
   "pygments_lexer": "ipython3",
   "version": "3.10.10"
  }
 },
 "nbformat": 4,
 "nbformat_minor": 5
}
